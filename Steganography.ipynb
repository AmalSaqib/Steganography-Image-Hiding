{
 "cells": [
  {
   "cell_type": "code",
   "execution_count": null,
   "id": "7e2cc517",
   "metadata": {},
   "outputs": [],
   "source": [
    "import cv2\n",
    "import numpy as np\n",
    "import random"
   ]
  },
  {
   "cell_type": "code",
   "execution_count": 2,
   "id": "9941f4a1",
   "metadata": {},
   "outputs": [],
   "source": [
    "src_img = cv2.imread('Carnival.png')\n",
    "hidden_img = cv2.imread('hidden.jpg')"
   ]
  },
  {
   "cell_type": "code",
   "execution_count": 3,
   "id": "71c42d16",
   "metadata": {},
   "outputs": [
    {
     "name": "stdout",
     "output_type": "stream",
     "text": [
      "408 620 3\n"
     ]
    }
   ],
   "source": [
    "height_src, width_src, channels_src = src_img.shape\n",
    "print(height_src, width_src, channels_src)"
   ]
  },
  {
   "cell_type": "code",
   "execution_count": 4,
   "id": "48269f88",
   "metadata": {},
   "outputs": [
    {
     "name": "stdout",
     "output_type": "stream",
     "text": [
      "200 283 3\n"
     ]
    }
   ],
   "source": [
    "height_hidden, width_hidden, channels_hidden = hidden_img.shape\n",
    "print(height_hidden, width_hidden, channels_hidden)"
   ]
  },
  {
   "cell_type": "code",
   "execution_count": 5,
   "id": "f444d426",
   "metadata": {},
   "outputs": [],
   "source": [
    "# Encryption function\n",
    "def encrypt(source,hidden):\n",
    "    if source.shape[0] < hidden.shape[0]:\n",
    "        height = source.shape[0]\n",
    "        width = source.shape[1]\n",
    "    else:\n",
    "        height = hidden.shape[0]\n",
    "        width = hidden.shape[1]\n",
    "      \n",
    "    for i in range(height):\n",
    "        for j in range(width):\n",
    "            for l in range(3):\n",
    "                  \n",
    "                # v1 and v2 are 8-bit pixel values\n",
    "                # of source and hidden images respectively\n",
    "                v1 = format(source[i][j][l], '08b')\n",
    "                v2 = format(hidden[i][j][l], '08b')\n",
    "                  \n",
    "                # Taking 4 MSBs of each image\n",
    "                v3 = v1[:4] + v2[:4] \n",
    "                  \n",
    "                source[i][j][l]= int(v3, 2)\n",
    "      \n",
    "    return source"
   ]
  },
  {
   "cell_type": "code",
   "execution_count": 6,
   "id": "43133bc2",
   "metadata": {},
   "outputs": [],
   "source": [
    "# Decryption function\n",
    "def decrypt(encrypted):\n",
    "    height = encrypted.shape[0]\n",
    "    width = encrypted.shape[1]\n",
    "      \n",
    "    hidden = np.zeros((height, width, 3), np.uint8)\n",
    "      \n",
    "    for i in range(height):\n",
    "        for j in range(width):\n",
    "            for l in range(3):\n",
    "                v1 = format(encrypted[i][j][l], '08b')\n",
    "                v2 = v1[:4] + chr(random.randint(0, 1)+48) * 4\n",
    "                v3 = v1[4:] + chr(random.randint(0, 1)+48) * 4\n",
    "                  \n",
    "                # Appending data to img1 and img2\n",
    "                hidden[i][j][l]= int(v3, 2)\n",
    "      \n",
    "    return hidden  "
   ]
  },
  {
   "cell_type": "markdown",
   "id": "0cbfa05b",
   "metadata": {},
   "source": [
    "# smaller size"
   ]
  },
  {
   "cell_type": "code",
   "execution_count": 7,
   "id": "c2973897",
   "metadata": {},
   "outputs": [],
   "source": [
    "hidden_img_small = cv2.resize(hidden_img, (width_src - 200, height_src - 200))"
   ]
  },
  {
   "cell_type": "code",
   "execution_count": 8,
   "id": "ff959941",
   "metadata": {},
   "outputs": [
    {
     "name": "stdout",
     "output_type": "stream",
     "text": [
      "208 420 3\n"
     ]
    }
   ],
   "source": [
    "height_hidden_small, width_hidden_small, channels_hidden_small = hidden_img_small.shape\n",
    "print(height_hidden_small, width_hidden_small, channels_hidden_small)"
   ]
  },
  {
   "cell_type": "markdown",
   "id": "876b0961",
   "metadata": {},
   "source": [
    "# encrypt"
   ]
  },
  {
   "cell_type": "code",
   "execution_count": 9,
   "id": "de1bc164",
   "metadata": {},
   "outputs": [
    {
     "data": {
      "text/plain": [
       "True"
      ]
     },
     "execution_count": 9,
     "metadata": {},
     "output_type": "execute_result"
    }
   ],
   "source": [
    "encrypted_small = encrypt(src_img, hidden_img_small)\n",
    "cv2.imwrite('encrypted_small.png', encrypted_small)"
   ]
  },
  {
   "cell_type": "markdown",
   "id": "6965d1eb",
   "metadata": {},
   "source": [
    "# decrypt"
   ]
  },
  {
   "cell_type": "code",
   "execution_count": 10,
   "id": "f5f24f0c",
   "metadata": {},
   "outputs": [
    {
     "data": {
      "text/plain": [
       "True"
      ]
     },
     "execution_count": 10,
     "metadata": {},
     "output_type": "execute_result"
    }
   ],
   "source": [
    "hidden_small = decrypt(encrypted_small)\n",
    "cv2.imwrite('decrypted_small.png', hidden_small)"
   ]
  },
  {
   "cell_type": "markdown",
   "id": "185ffffb",
   "metadata": {},
   "source": [
    "# same size"
   ]
  },
  {
   "cell_type": "code",
   "execution_count": 11,
   "id": "a9996cfe",
   "metadata": {},
   "outputs": [],
   "source": [
    "hidden_img_same = cv2.resize(hidden_img, (width_src, height_src))"
   ]
  },
  {
   "cell_type": "code",
   "execution_count": 12,
   "id": "46026e6d",
   "metadata": {},
   "outputs": [
    {
     "name": "stdout",
     "output_type": "stream",
     "text": [
      "408 620 3\n"
     ]
    }
   ],
   "source": [
    "height_hidden_same, width_hidden_same, channels_hidden_same = hidden_img_same.shape\n",
    "print(height_hidden_same, width_hidden_same, channels_hidden_same)"
   ]
  },
  {
   "cell_type": "markdown",
   "id": "0f578ba7",
   "metadata": {},
   "source": [
    "# encrypt"
   ]
  },
  {
   "cell_type": "code",
   "execution_count": 13,
   "id": "c0035fc7",
   "metadata": {},
   "outputs": [
    {
     "data": {
      "text/plain": [
       "True"
      ]
     },
     "execution_count": 13,
     "metadata": {},
     "output_type": "execute_result"
    }
   ],
   "source": [
    "encrypted_same = encrypt(src_img, hidden_img_same)\n",
    "cv2.imwrite('encrypted_same.png', encrypted_same)"
   ]
  },
  {
   "cell_type": "markdown",
   "id": "4a0abab6",
   "metadata": {},
   "source": [
    "# decrypt"
   ]
  },
  {
   "cell_type": "code",
   "execution_count": 14,
   "id": "de175b65",
   "metadata": {},
   "outputs": [
    {
     "data": {
      "text/plain": [
       "True"
      ]
     },
     "execution_count": 14,
     "metadata": {},
     "output_type": "execute_result"
    }
   ],
   "source": [
    "hidden_same = decrypt(encrypted_same)\n",
    "cv2.imwrite('decrypted_same.png', hidden_same)"
   ]
  },
  {
   "cell_type": "markdown",
   "id": "c7fb972a",
   "metadata": {},
   "source": [
    "# larger size"
   ]
  },
  {
   "cell_type": "code",
   "execution_count": 15,
   "id": "069a6342",
   "metadata": {},
   "outputs": [],
   "source": [
    "hidden_img_large = cv2.resize(hidden_img, (width_src + 200, height_src + 200))"
   ]
  },
  {
   "cell_type": "code",
   "execution_count": 16,
   "id": "4bab0289",
   "metadata": {},
   "outputs": [
    {
     "name": "stdout",
     "output_type": "stream",
     "text": [
      "608 820 3\n"
     ]
    }
   ],
   "source": [
    "height_hidden_large, width_hidden_large, channels_hidden_large = hidden_img_large.shape\n",
    "print(height_hidden_large, width_hidden_large, channels_hidden_large)"
   ]
  },
  {
   "cell_type": "markdown",
   "id": "e64867c7",
   "metadata": {},
   "source": [
    "# encrypt "
   ]
  },
  {
   "cell_type": "code",
   "execution_count": 17,
   "id": "5fc79559",
   "metadata": {},
   "outputs": [
    {
     "data": {
      "text/plain": [
       "True"
      ]
     },
     "execution_count": 17,
     "metadata": {},
     "output_type": "execute_result"
    }
   ],
   "source": [
    "encrypted_large = encrypt(src_img, hidden_img_large)\n",
    "cv2.imwrite('encrypted_large.png', encrypted_large)"
   ]
  },
  {
   "cell_type": "markdown",
   "id": "e3ce613a",
   "metadata": {},
   "source": [
    "# decrypt"
   ]
  },
  {
   "cell_type": "code",
   "execution_count": 18,
   "id": "7f3ecff6",
   "metadata": {},
   "outputs": [
    {
     "data": {
      "text/plain": [
       "True"
      ]
     },
     "execution_count": 18,
     "metadata": {},
     "output_type": "execute_result"
    }
   ],
   "source": [
    "hidden_large = decrypt(encrypted_large)\n",
    "cv2.imwrite('decrypted_large.png', hidden_large)"
   ]
  },
  {
   "attachments": {},
   "cell_type": "markdown",
   "id": "eae865e1",
   "metadata": {},
   "source": [
    "# Task 2b"
   ]
  },
  {
   "cell_type": "code",
   "execution_count": 26,
   "id": "8d971d87",
   "metadata": {},
   "outputs": [],
   "source": [
    "from PIL import Image\n",
    "import numpy as np\n",
    "\n",
    "\n",
    "# Encryption Functions\n",
    "\n",
    "def encode_str(str_input):\n",
    "    output = []\n",
    "    length=len(str_input)\n",
    "    for x in range(length):\n",
    "        resLet = ord(str_input[x])\n",
    "        output.append(resLet)\n",
    "    return output\n",
    "\n",
    "\n",
    "def hash_enc_str(enc_str):\n",
    "    \n",
    "    for x in range(len(enc_str)):\n",
    "        if enc_str[x] == 32:\n",
    "            enc_str[x] = 31\n",
    "        elif enc_str[x] == 46:\n",
    "            enc_str[x] = 30\n",
    "        elif enc_str[x] == 44:\n",
    "            enc_str[x] = 29\n",
    "        else:\n",
    "            enc_str[x] = enc_str[x] % 96\n",
    "    return enc_str\n",
    "\n",
    "def encrypt_msg(input):\n",
    "    small_ltr = input.lower()\n",
    "    input_arr = list(small_ltr)\n",
    "    print({'Small Letter Array': input_arr})\n",
    "    enc_str = encode_str(input_arr)\n",
    "    print({'Encoded String': enc_str})\n",
    "    final_out = hash_enc_str(enc_str)\n",
    "    print({'Hashed String': final_out})\n",
    "    return final_out\n",
    "\n",
    "\n",
    "def decimalToBinary(n):\n",
    "    return bin(n).replace(\"0b\", \"\")\n",
    "\n",
    "def modifyBit( n,  p,  b):\n",
    "    mask = 1 << p\n",
    "    return (n & ~mask) | ((b << p) & mask)\n",
    "\n",
    "def imageManipulation(img, input):\n",
    "\n",
    "    # img = cv2.imread(\"lena.png\")\n",
    "    # blue, green, red = cv2.split(img)\n",
    "    photo= Image.open(img).convert('RGB')\n",
    "    newImgArr = np.asarray(photo).copy()\n",
    "    img_shape = newImgArr.shape\n",
    "    print({'Shape': img_shape})\n",
    "\n",
    "    flat_img = newImgArr.reshape(newImgArr.shape[0]*newImgArr.shape[1], newImgArr.shape[2] )\n",
    "\n",
    "    # print(newImgArr)\n",
    "    count = 0\n",
    "    for i in range(0, len(flat_img)-1, 2):\n",
    "        letter_binary = decimalToBinary(input[count])\n",
    "        if len(letter_binary) == 1:\n",
    "            temp = '0000'\n",
    "            letter_binary = temp + letter_binary\n",
    "        elif len(letter_binary) == 2:\n",
    "            temp = '000'\n",
    "            letter_binary = temp + letter_binary\n",
    "        elif len(letter_binary) == 3:\n",
    "            temp = '00'\n",
    "            letter_binary = temp + letter_binary\n",
    "        elif len(letter_binary) == 4:\n",
    "            temp = '0'\n",
    "            letter_binary = temp + letter_binary\n",
    "\n",
    "        # print(letter_binary)\n",
    "        # print(\"\\n\")\n",
    "\n",
    "        flat_img[i][0] = modifyBit(flat_img[i][0], 0, int(letter_binary[0],10))\n",
    "        flat_img[i][1] = modifyBit(flat_img[i][1], 0, int(letter_binary[1],10))\n",
    "        flat_img[i+1][0] = modifyBit(flat_img[i+1][0], 0, int(letter_binary[2],10))\n",
    "        flat_img[i+1][1] = modifyBit(flat_img[i+1][1], 0, int(letter_binary[3],10))\n",
    "        flat_img[i+1][2] = modifyBit(flat_img[i+1][2], 0, int(letter_binary[4],10))\n",
    "        count = count + 1\n",
    "\n",
    "\n",
    "        if len(input) == count:\n",
    "            flat_img[i+2][0] = modifyBit(flat_img[i+1][0], 0, 0)\n",
    "            flat_img[i+2][1] = modifyBit(flat_img[i+1][1], 0, 0)\n",
    "            flat_img[i+3][0] = modifyBit(flat_img[i+2][0], 0, 0)\n",
    "            flat_img[i+3][1] = modifyBit(flat_img[i+2][1], 0, 0)\n",
    "            flat_img[i+3][2] = modifyBit(flat_img[i+2][2], 0, 0)\n",
    "            break;\n",
    "    newImgArr = flat_img.reshape(img_shape)\n",
    "    return Image.fromarray(newImgArr)\n",
    "\n",
    "\n",
    "def encodeMsgintoImg(img, msg):\n",
    "    print({'Size of Message': len(msg)})\n",
    "    encMsg = encrypt_msg(msg)\n",
    "    encImg = imageManipulation(img, encMsg)\n",
    "    encImg.save('enc_img.png')\n",
    "    #return encImg\n",
    "\n",
    "\n",
    "def decimalToBinary(n):\n",
    "    return bin(n).replace(\"0b\", \"\")\n",
    "\n",
    "\n",
    "#decryption Functions\n",
    "\n",
    "def hash_dec(input):\n",
    "    for x in range(len(input)):\n",
    "        if input[x] == 31:\n",
    "            input[x] = 32\n",
    "        elif input[x] == 30:\n",
    "            input[x] = 46\n",
    "        elif input[x] == 29:\n",
    "            input[x] = 44\n",
    "        else:\n",
    "            input[x] = input[x] + 96\n",
    "    \n",
    "    print({'De-Hasheed': input})\n",
    "    return input\n",
    "\n",
    "def decodeString(string_input):\n",
    "    decode=[]\n",
    "    outLength=len(string_input)\n",
    "    for i in range(outLength):\n",
    "        resLet = string_input[i]\n",
    "        decode.append(chr(resLet))\n",
    "        \n",
    "    print({'Decoded': decode})\n",
    "    return decode\n",
    "\n",
    "def decrypt_msg(encMsg):\n",
    "    dehashed_msg = hash_dec(encMsg)\n",
    "    decode_msg = decodeString(dehashed_msg)\n",
    "    return decode_msg\n",
    "\n",
    "\n",
    "def extractingMessage(img):\n",
    "\n",
    "    photo= Image.open(img)\n",
    "    newImgArr = np.asarray(photo).copy()\n",
    "    img_shape = newImgArr.shape\n",
    "    print({'Shape': img_shape})\n",
    "\n",
    "    flat_img = newImgArr.reshape(newImgArr.shape[0]*newImgArr.shape[1], newImgArr.shape[2])\n",
    "\n",
    "    output = []\n",
    "\n",
    "    for i in range(0, len(flat_img)-1, 2):\n",
    "        temp = decimalToBinary(flat_img[i][0])\n",
    "        number = temp[len(temp)-1]\n",
    "        temp = decimalToBinary(flat_img[i][1])\n",
    "        number = number + temp[len(temp)-1]\n",
    "        temp = decimalToBinary(flat_img[i+1][0])\n",
    "        number = number + temp[len(temp)-1]\n",
    "        temp = decimalToBinary(flat_img[i+1][1])\n",
    "        number = number + temp[len(temp)-1]\n",
    "        temp = decimalToBinary(flat_img[i+1][2])\n",
    "        number = number + temp[len(temp)-1]\n",
    "\n",
    "        value = int(number,2)\n",
    "        #print(value)\n",
    "\n",
    "        if value == 0:\n",
    "            break;\n",
    "        output.append(value)\n",
    "\n",
    "    print({'Image Data': output})\n",
    "    return output\n",
    "\n",
    "def decodeMsgFromImg(img):\n",
    "    \n",
    "    encMsg = extractingMessage(img)\n",
    "    decMsg = decrypt_msg(encMsg)\n",
    "    output = \"\"\n",
    "    #return output.join(decMsg)\n",
    "    print({'Output': output.join(decMsg)})\n"
   ]
  },
  {
   "attachments": {},
   "cell_type": "markdown",
   "id": "50e71c0c",
   "metadata": {},
   "source": [
    "# Encrypting One Word"
   ]
  },
  {
   "cell_type": "code",
   "execution_count": 27,
   "id": "a2fd3021",
   "metadata": {},
   "outputs": [
    {
     "name": "stdout",
     "output_type": "stream",
     "text": [
      "{'Size of Message': 9}\n",
      "{'Small Letter Array': ['e', 'p', 'h', 'e', 'm', 'e', 'r', 'a', 'l']}\n",
      "{'Encoded String': [101, 112, 104, 101, 109, 101, 114, 97, 108]}\n",
      "{'Hashed String': [5, 16, 8, 5, 13, 5, 18, 1, 12]}\n",
      "{'Shape': (408, 620, 3)}\n"
     ]
    }
   ],
   "source": [
    "img = \"Carnival.png\"\n",
    "msg = \"ephemeral\"\n",
    "encodeMsgintoImg(img,msg)"
   ]
  },
  {
   "attachments": {},
   "cell_type": "markdown",
   "id": "3d415e81",
   "metadata": {},
   "source": [
    "# Decrypting That One Word"
   ]
  },
  {
   "cell_type": "code",
   "execution_count": 28,
   "id": "2ec8aefd",
   "metadata": {},
   "outputs": [
    {
     "name": "stdout",
     "output_type": "stream",
     "text": [
      "{'Shape': (408, 620, 3)}\n",
      "{'Image Data': [5, 16, 8, 5, 13, 5, 18, 1, 12]}\n",
      "{'De-Hasheed': [101, 112, 104, 101, 109, 101, 114, 97, 108]}\n",
      "{'Decoded': ['e', 'p', 'h', 'e', 'm', 'e', 'r', 'a', 'l']}\n",
      "{'Output': 'ephemeral'}\n"
     ]
    }
   ],
   "source": [
    "img = \"enc_img.png\"\n",
    "decodeMsgFromImg(img)"
   ]
  },
  {
   "attachments": {},
   "cell_type": "markdown",
   "id": "d8775825",
   "metadata": {},
   "source": [
    "# Encrypting Phrase"
   ]
  },
  {
   "cell_type": "code",
   "execution_count": 30,
   "id": "987ae60c",
   "metadata": {},
   "outputs": [
    {
     "name": "stdout",
     "output_type": "stream",
     "text": [
      "{'Size of Message': 28}\n",
      "{'Small Letter Array': ['w', 'e', ' ', 'a', 'r', 'e', ' ', 'w', 'h', 'a', 't', ' ', 'w', 'e', ' ', 'r', 'e', 'p', 'e', 'a', 't', 'e', 'd', 'l', 'y', ' ', 'd', 'o']}\n",
      "{'Encoded String': [119, 101, 32, 97, 114, 101, 32, 119, 104, 97, 116, 32, 119, 101, 32, 114, 101, 112, 101, 97, 116, 101, 100, 108, 121, 32, 100, 111]}\n",
      "{'Hashed String': [23, 5, 31, 1, 18, 5, 31, 23, 8, 1, 20, 31, 23, 5, 31, 18, 5, 16, 5, 1, 20, 5, 4, 12, 25, 31, 4, 15]}\n",
      "{'Shape': (408, 620, 3)}\n"
     ]
    }
   ],
   "source": [
    "img = \"Carnival.png\"\n",
    "msg = \"We are what we repeatedly do\"\n",
    "encodeMsgintoImg(img,msg)"
   ]
  },
  {
   "attachments": {},
   "cell_type": "markdown",
   "id": "68bd5a01",
   "metadata": {},
   "source": [
    "# Decrypting Phrase"
   ]
  },
  {
   "cell_type": "code",
   "execution_count": 31,
   "id": "af436c8c",
   "metadata": {},
   "outputs": [
    {
     "name": "stdout",
     "output_type": "stream",
     "text": [
      "{'Shape': (408, 620, 3)}\n",
      "{'Image Data': [23, 5, 31, 1, 18, 5, 31, 23, 8, 1, 20, 31, 23, 5, 31, 18, 5, 16, 5, 1, 20, 5, 4, 12, 25, 31, 4, 15]}\n",
      "{'De-Hasheed': [119, 101, 32, 97, 114, 101, 32, 119, 104, 97, 116, 32, 119, 101, 32, 114, 101, 112, 101, 97, 116, 101, 100, 108, 121, 32, 100, 111]}\n",
      "{'Decoded': ['w', 'e', ' ', 'a', 'r', 'e', ' ', 'w', 'h', 'a', 't', ' ', 'w', 'e', ' ', 'r', 'e', 'p', 'e', 'a', 't', 'e', 'd', 'l', 'y', ' ', 'd', 'o']}\n",
      "{'Output': 'we are what we repeatedly do'}\n"
     ]
    }
   ],
   "source": [
    "img = \"enc_img.png\"\n",
    "decodeMsgFromImg(img)"
   ]
  },
  {
   "attachments": {},
   "cell_type": "markdown",
   "id": "6244c4c5",
   "metadata": {},
   "source": [
    "# Encrypting Sentence"
   ]
  },
  {
   "cell_type": "code",
   "execution_count": 32,
   "id": "b288619c",
   "metadata": {},
   "outputs": [
    {
     "name": "stdout",
     "output_type": "stream",
     "text": [
      "{'Size of Message': 47}\n",
      "{'Small Letter Array': ['t', 'h', 'e', ' ', 't', 'e', 's', 't', ' ', 'd', 'i', 'd', ' ', 'n', 'o', 't', ' ', 'p', 'r', 'o', 'd', 'u', 'c', 'e', ' ', 'a', 'n', 'y', ' ', 'm', 'e', 'a', 'n', 'i', 'n', 'g', 'f', 'u', 'l', ' ', 'r', 'e', 's', 'u', 'l', 't', 's']}\n",
      "{'Encoded String': [116, 104, 101, 32, 116, 101, 115, 116, 32, 100, 105, 100, 32, 110, 111, 116, 32, 112, 114, 111, 100, 117, 99, 101, 32, 97, 110, 121, 32, 109, 101, 97, 110, 105, 110, 103, 102, 117, 108, 32, 114, 101, 115, 117, 108, 116, 115]}\n",
      "{'Hashed String': [20, 8, 5, 31, 20, 5, 19, 20, 31, 4, 9, 4, 31, 14, 15, 20, 31, 16, 18, 15, 4, 21, 3, 5, 31, 1, 14, 25, 31, 13, 5, 1, 14, 9, 14, 7, 6, 21, 12, 31, 18, 5, 19, 21, 12, 20, 19]}\n",
      "{'Shape': (408, 620, 3)}\n"
     ]
    }
   ],
   "source": [
    "img = \"Carnival.png\"\n",
    "msg = \"the test did not produce any meaningful results\"\n",
    "encodeMsgintoImg(img,msg)"
   ]
  },
  {
   "attachments": {},
   "cell_type": "markdown",
   "id": "df0df70f",
   "metadata": {},
   "source": [
    "# Decrypting Sentence"
   ]
  },
  {
   "cell_type": "code",
   "execution_count": 33,
   "id": "bdd097c9",
   "metadata": {},
   "outputs": [
    {
     "name": "stdout",
     "output_type": "stream",
     "text": [
      "{'Shape': (408, 620, 3)}\n",
      "{'Image Data': [20, 8, 5, 31, 20, 5, 19, 20, 31, 4, 9, 4, 31, 14, 15, 20, 31, 16, 18, 15, 4, 21, 3, 5, 31, 1, 14, 25, 31, 13, 5, 1, 14, 9, 14, 7, 6, 21, 12, 31, 18, 5, 19, 21, 12, 20, 19]}\n",
      "{'De-Hasheed': [116, 104, 101, 32, 116, 101, 115, 116, 32, 100, 105, 100, 32, 110, 111, 116, 32, 112, 114, 111, 100, 117, 99, 101, 32, 97, 110, 121, 32, 109, 101, 97, 110, 105, 110, 103, 102, 117, 108, 32, 114, 101, 115, 117, 108, 116, 115]}\n",
      "{'Decoded': ['t', 'h', 'e', ' ', 't', 'e', 's', 't', ' ', 'd', 'i', 'd', ' ', 'n', 'o', 't', ' ', 'p', 'r', 'o', 'd', 'u', 'c', 'e', ' ', 'a', 'n', 'y', ' ', 'm', 'e', 'a', 'n', 'i', 'n', 'g', 'f', 'u', 'l', ' ', 'r', 'e', 's', 'u', 'l', 't', 's']}\n",
      "{'Output': 'the test did not produce any meaningful results'}\n"
     ]
    }
   ],
   "source": [
    "img = \"enc_img.png\"\n",
    "decodeMsgFromImg(img)"
   ]
  }
 ],
 "metadata": {
  "kernelspec": {
   "display_name": "Python 3",
   "language": "python",
   "name": "python3"
  },
  "language_info": {
   "codemirror_mode": {
    "name": "ipython",
    "version": 3
   },
   "file_extension": ".py",
   "mimetype": "text/x-python",
   "name": "python",
   "nbconvert_exporter": "python",
   "pygments_lexer": "ipython3",
   "version": "3.11.2"
  },
  "vscode": {
   "interpreter": {
    "hash": "c41245681b0c5dfdc198064911b7c792a0421ee2cbedc4ec4c9079156fd03e41"
   }
  }
 },
 "nbformat": 4,
 "nbformat_minor": 5
}
